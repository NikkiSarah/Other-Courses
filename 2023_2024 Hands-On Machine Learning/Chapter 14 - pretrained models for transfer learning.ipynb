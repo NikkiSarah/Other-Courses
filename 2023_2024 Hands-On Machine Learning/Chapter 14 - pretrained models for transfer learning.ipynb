{
 "cells": [
  {
   "cell_type": "markdown",
   "id": "b8f98817-7236-4a83-8572-e9394f2a8220",
   "metadata": {},
   "source": [
    "## **pre-trained models for transfer learning**"
   ]
  },
  {
   "cell_type": "code",
   "execution_count": 2,
   "id": "80058029-5d50-4e29-ac6b-0ae659d527b5",
   "metadata": {
    "execution": {
     "iopub.execute_input": "2024-01-30T08:25:30.439078Z",
     "iopub.status.busy": "2024-01-30T08:25:30.438686Z",
     "iopub.status.idle": "2024-01-30T08:25:33.551413Z",
     "shell.execute_reply": "2024-01-30T08:25:33.550662Z",
     "shell.execute_reply.started": "2024-01-30T08:25:30.439050Z"
    },
    "tags": []
   },
   "outputs": [
    {
     "name": "stderr",
     "output_type": "stream",
     "text": [
      "2024-01-30 08:25:31.633900: I tensorflow/core/util/port.cc:113] oneDNN custom operations are on. You may see slightly different numerical results due to floating-point round-off errors from different computation orders. To turn them off, set the environment variable `TF_ENABLE_ONEDNN_OPTS=0`.\n",
      "2024-01-30 08:25:31.681062: E external/local_xla/xla/stream_executor/cuda/cuda_dnn.cc:9261] Unable to register cuDNN factory: Attempting to register factory for plugin cuDNN when one has already been registered\n",
      "2024-01-30 08:25:31.681101: E external/local_xla/xla/stream_executor/cuda/cuda_fft.cc:607] Unable to register cuFFT factory: Attempting to register factory for plugin cuFFT when one has already been registered\n",
      "2024-01-30 08:25:31.682318: E external/local_xla/xla/stream_executor/cuda/cuda_blas.cc:1515] Unable to register cuBLAS factory: Attempting to register factory for plugin cuBLAS when one has already been registered\n",
      "2024-01-30 08:25:31.689827: I tensorflow/core/platform/cpu_feature_guard.cc:182] This TensorFlow binary is optimized to use available CPU instructions in performance-critical operations.\n",
      "To enable the following instructions: AVX2 AVX512F AVX512_VNNI FMA, in other operations, rebuild TensorFlow with the appropriate compiler flags.\n",
      "2024-01-30 08:25:32.693093: W tensorflow/compiler/tf2tensorrt/utils/py_utils.cc:38] TF-TRT Warning: Could not find TensorRT\n"
     ]
    }
   ],
   "source": [
    "import tensorflow_datasets as tfds\n",
    "import tensorflow.keras as tfk"
   ]
  },
  {
   "cell_type": "code",
   "execution_count": 3,
   "id": "b703ea7c-0cda-4c50-96af-44a28880b5ba",
   "metadata": {
    "execution": {
     "iopub.execute_input": "2024-01-30T08:25:33.553195Z",
     "iopub.status.busy": "2024-01-30T08:25:33.552679Z",
     "iopub.status.idle": "2024-01-30T08:25:34.271749Z",
     "shell.execute_reply": "2024-01-30T08:25:34.270884Z",
     "shell.execute_reply.started": "2024-01-30T08:25:33.553170Z"
    },
    "tags": []
   },
   "outputs": [
    {
     "name": "stderr",
     "output_type": "stream",
     "text": [
      "2024-01-30 08:25:33.719402: I external/local_xla/xla/stream_executor/cuda/cuda_executor.cc:901] successful NUMA node read from SysFS had negative value (-1), but there must be at least one NUMA node, so returning NUMA node zero. See more at https://github.com/torvalds/linux/blob/v6.0/Documentation/ABI/testing/sysfs-bus-pci#L344-L355\n",
      "2024-01-30 08:25:33.770364: I external/local_xla/xla/stream_executor/cuda/cuda_executor.cc:901] successful NUMA node read from SysFS had negative value (-1), but there must be at least one NUMA node, so returning NUMA node zero. See more at https://github.com/torvalds/linux/blob/v6.0/Documentation/ABI/testing/sysfs-bus-pci#L344-L355\n",
      "2024-01-30 08:25:33.773840: I external/local_xla/xla/stream_executor/cuda/cuda_executor.cc:901] successful NUMA node read from SysFS had negative value (-1), but there must be at least one NUMA node, so returning NUMA node zero. See more at https://github.com/torvalds/linux/blob/v6.0/Documentation/ABI/testing/sysfs-bus-pci#L344-L355\n",
      "2024-01-30 08:25:33.777574: I external/local_xla/xla/stream_executor/cuda/cuda_executor.cc:901] successful NUMA node read from SysFS had negative value (-1), but there must be at least one NUMA node, so returning NUMA node zero. See more at https://github.com/torvalds/linux/blob/v6.0/Documentation/ABI/testing/sysfs-bus-pci#L344-"
     ]
    },
    {
     "name": "stdout",
     "output_type": "stream",
     "text": [
      "3670\n",
      "['dandelion', 'daisy', 'tulips', 'sunflowers', 'roses']\n",
      "5\n"
     ]
    },
    {
     "name": "stderr",
     "output_type": "stream",
     "text": [
      "L355\n",
      "2024-01-30 08:25:33.780791: I external/local_xla/xla/stream_executor/cuda/cuda_executor.cc:901] successful NUMA node read from SysFS had negative value (-1), but there must be at least one NUMA node, so returning NUMA node zero. See more at https://github.com/torvalds/linux/blob/v6.0/Documentation/ABI/testing/sysfs-bus-pci#L344-L355\n",
      "2024-01-30 08:25:33.783889: I external/local_xla/xla/stream_executor/cuda/cuda_executor.cc:901] successful NUMA node read from SysFS had negative value (-1), but there must be at least one NUMA node, so returning NUMA node zero. See more at https://github.com/torvalds/linux/blob/v6.0/Documentation/ABI/testing/sysfs-bus-pci#L344-L355\n",
      "2024-01-30 08:25:33.941167: I external/local_xla/xla/stream_executor/cuda/cuda_executor.cc:901] successful NUMA node read from SysFS had negative value (-1), but there must be at least one NUMA node, so returning NUMA node zero. See more at https://github.com/torvalds/linux/blob/v6.0/Documentation/ABI/testing/sysfs-bus-pci#L344-L355\n",
      "2024-01-30 08:25:33.942403: I external/local_xla/xla/stream_executor/cuda/cuda_executor.cc:901] successful NUMA node read from SysFS had negative value (-1), but there must be at least one NUMA node, so returning NUMA node zero. See more at https://github.com/torvalds/linux/blob/v6.0/Documentation/ABI/testing/sysfs-bus-pci#L344-L355\n",
      "2024-01-30 08:25:33.943511: I external/local_xla/xla/stream_executor/cuda/cuda_executor.cc:901] successful NUMA node read from SysFS had negative value (-1), but there must be at least one NUMA node, so returning NUMA node zero. See more at https://github.com/torvalds/linux/blob/v6.0/Documentation/ABI/testing/sysfs-bus-pci#L344-L355\n",
      "2024-01-30 08:25:33.944581: I tensorflow/core/common_runtime/gpu/gpu_device.cc:1929] Created device /job:localhost/replica:0/task:0/device:GPU:0 with 13775 MB memory:  -> device: 0, name: Tesla T4, pci bus id: 0000:00:1e.0, compute capability: 7.5\n"
     ]
    }
   ],
   "source": [
    "dataset, info = tfds.load(\"tf_flowers\", as_supervised=True, with_info=True)\n",
    "dataset_size = info.splits[\"train\"].num_examples\n",
    "print(dataset_size)\n",
    "class_names = info.features[\"label\"].names\n",
    "print(class_names)\n",
    "n_classes = info.features[\"label\"].num_classes\n",
    "print(n_classes)"
   ]
  },
  {
   "cell_type": "code",
   "execution_count": 4,
   "id": "b4ac4982-458a-4b8a-ae96-bc0aaf388093",
   "metadata": {
    "execution": {
     "iopub.execute_input": "2024-01-30T08:25:36.043296Z",
     "iopub.status.busy": "2024-01-30T08:25:36.042894Z",
     "iopub.status.idle": "2024-01-30T08:25:37.638629Z",
     "shell.execute_reply": "2024-01-30T08:25:37.637960Z",
     "shell.execute_reply.started": "2024-01-30T08:25:36.043268Z"
    },
    "tags": []
   },
   "outputs": [
    {
     "name": "stderr",
     "output_type": "stream",
     "text": [
      "2024-01-30 08:25:36.362631: I external/local_tsl/tsl/platform/default/subprocess.cc:304] Start cannot spawn child process: No such file or directory\n"
     ]
    }
   ],
   "source": [
    "test_set_raw, val_set_raw, train_set_raw = tfds.load(\n",
    "    \"tf_flowers\",\n",
    "    split=[\"train[:10%]\", \"train[10%:25%]\", \"train[25%:]\"],\n",
    "    as_supervised=True)\n",
    "\n",
    "batch_size = 32\n",
    "preprocess = tfk.Sequential([\n",
    "    tfk.layers.Resizing(height=224, width=224, crop_to_aspect_ratio=True),\n",
    "    tfk.layers.Lambda(tfk.applications.xception.preprocess_input)\n",
    "    ])\n",
    "train_set = train_set_raw.map(lambda X, y: (preprocess(X), y))\n",
    "train_set = train_set.shuffle(1000, seed=42).batch(batch_size).prefetch(1)\n",
    "val_set = val_set_raw.map(lambda X, y: (preprocess(X), y)).batch(batch_size)\n",
    "test_set = test_set_raw.map(lambda X, y: (preprocess(X), y)).batch(batch_size)\n",
    "\n",
    "data_augmentation = tfk.Sequential([\n",
    "    tfk.layers.RandomFlip(mode=\"horizontal\", seed=42),\n",
    "    tfk.layers.RandomRotation(factor=0.05, seed=42),\n",
    "    tfk.layers.RandomContrast(factor=0.2, seed=42)\n",
    "    ])"
   ]
  },
  {
   "cell_type": "code",
   "execution_count": 5,
   "id": "9e99fa8b-2981-4ef2-9117-3b6222813d6a",
   "metadata": {
    "execution": {
     "iopub.execute_input": "2024-01-30T08:25:37.640310Z",
     "iopub.status.busy": "2024-01-30T08:25:37.639836Z",
     "iopub.status.idle": "2024-01-30T08:26:24.374596Z",
     "shell.execute_reply": "2024-01-30T08:26:24.373927Z",
     "shell.execute_reply.started": "2024-01-30T08:25:37.640283Z"
    },
    "tags": []
   },
   "outputs": [
    {
     "name": "stdout",
     "output_type": "stream",
     "text": [
      "Epoch 1/3\n"
     ]
    },
    {
     "name": "stderr",
     "output_type": "stream",
     "text": [
      "2024-01-30 08:25:42.667073: I external/local_xla/xla/stream_executor/cuda/cuda_dnn.cc:454] Loaded cuDNN version 8904\n",
      "2024-01-30 08:25:42.790875: I external/local_tsl/tsl/platform/default/subprocess.cc:304] Start cannot spawn child process: No such file or directory\n"
     ]
    },
    {
     "name": "stdout",
     "output_type": "stream",
     "text": [
      " 1/86 [..............................] - ETA: 9:30 - loss: 1.8210 - accuracy: 0.2188"
     ]
    },
    {
     "name": "stderr",
     "output_type": "stream",
     "text": [
      "2024-01-30 08:25:45.950207: I external/local_xla/xla/service/service.cc:168] XLA service 0x55921faa5e50 initialized for platform CUDA (this does not guarantee that XLA will be used). Devices:\n",
      "2024-01-30 08:25:45.950246: I external/local_xla/xla/service/service.cc:176]   StreamExecutor device (0): Tesla T4, Compute Capability 7.5\n",
      "WARNING: All log messages before absl::InitializeLog() is called are written to STDERR\n",
      "I0000 00:00:1706603146.014078     742 device_compiler.h:186] Compiled cluster using XLA!  This line is logged at most once for the lifetime of the process.\n"
     ]
    },
    {
     "name": "stdout",
     "output_type": "stream",
     "text": [
      "86/86 [==============================] - 20s 162ms/step - loss: 0.6825 - accuracy: 0.8100 - val_loss: 0.5960 - val_accuracy: 0.8403\n",
      "Epoch 2/3\n",
      "86/86 [==============================] - 12s 139ms/step - loss: 0.2788 - accuracy: 0.9164 - val_loss: 0.5352 - val_accuracy: 0.8730\n",
      "Epoch 3/3\n",
      "86/86 [==============================] - 12s 139ms/step - loss: 0.1706 - accuracy: 0.9408 - val_loss: 0.5735 - val_accuracy: 0.8603\n"
     ]
    }
   ],
   "source": [
    "base_model = tfk.applications.xception.Xception(weights=\"imagenet\", include_top=False)\n",
    "avg = tfk.layers.GlobalAveragePooling2D()(base_model.output)\n",
    "output = tfk.layers.Dense(n_classes, activation=\"softmax\")(avg)\n",
    "model = tfk.Model(inputs=base_model.input, outputs=output)\n",
    "\n",
    "for layer in base_model.layers:\n",
    "    layer.trainable = False\n",
    "\n",
    "optimiser = tfk.optimizers.SGD(learning_rate=0.1, momentum=0.9)\n",
    "model.compile(loss=\"sparse_categorical_crossentropy\", optimizer=optimiser,\n",
    "              metrics=[\"accuracy\"])\n",
    "history = model.fit(train_set, validation_data=val_set, epochs=3)"
   ]
  },
  {
   "cell_type": "code",
   "execution_count": null,
   "id": "50dafae0-891f-4e0e-99de-8d0feb22bf49",
   "metadata": {
    "execution": {
     "iopub.execute_input": "2024-01-30T08:26:24.376386Z",
     "iopub.status.busy": "2024-01-30T08:26:24.376022Z"
    },
    "tags": []
   },
   "outputs": [
    {
     "name": "stdout",
     "output_type": "stream",
     "text": [
      "Epoch 1/10\n",
      "86/86 [==============================] - 34s 284ms/step - loss: 0.2679 - accuracy: 0.9117 - val_loss: 0.5514 - val_accuracy: 0.8548\n",
      "Epoch 2/10\n",
      "86/86 [==============================] - 24s 274ms/step - loss: 0.0606 - accuracy: 0.9847 - val_loss: 0.3521 - val_accuracy: 0.9002\n",
      "Epoch 3/10\n",
      "86/86 [==============================] - 24s 275ms/step - loss: 0.0153 - accuracy: 0.9964 - val_loss: 0.3072 - val_accuracy: 0.9129\n",
      "Epoch 4/10\n",
      "86/86 [==============================] - 24s 275ms/step - loss: 0.0050 - accuracy: 0.9993 - val_loss: 0.3019 - val_accuracy: 0.9111\n",
      "Epoch 5/10\n",
      "86/86 [==============================] - 24s 276ms/step - loss: 0.0138 - accuracy: 0.9953 - val_loss: 0.3185 - val_accuracy: 0.9093\n",
      "Epoch 6/10\n",
      "86/86 [==============================] - 24s 276ms/step - loss: 0.0035 - accuracy: 0.9996 - val_loss: 0.3043 - val_accuracy: 0.9147\n",
      "Epoch 7/10\n",
      "86/86 [==============================] - 24s 277ms/step - loss: 0.0038 - accuracy: 0.9993 - val_loss: 0.3276 - val_accuracy: 0.9056\n",
      "Epoch 8/10\n",
      " 8/86 [=>............................] - ETA: 19s - loss: 0.0034 - accuracy: 1.0000"
     ]
    }
   ],
   "source": [
    "for layer in base_model.layers[56:]:\n",
    "    layer.trainable = True\n",
    "\n",
    "optimiser = tfk.optimizers.SGD(learning_rate=0.01, momentum=0.9)\n",
    "model.compile(loss=\"sparse_categorical_crossentropy\", optimizer=optimiser,\n",
    "              metrics=[\"accuracy\"])\n",
    "history = model.fit(train_set, validation_data=val_set, epochs=10)"
   ]
  },
  {
   "cell_type": "code",
   "execution_count": null,
   "id": "645e639f-932c-499d-a32c-3ae8334c5996",
   "metadata": {},
   "outputs": [],
   "source": []
  }
 ],
 "metadata": {
  "kernelspec": {
   "display_name": "saturn (Python 3)",
   "language": "python",
   "name": "python3"
  },
  "language_info": {
   "codemirror_mode": {
    "name": "ipython",
    "version": 3
   },
   "file_extension": ".py",
   "mimetype": "text/x-python",
   "name": "python",
   "nbconvert_exporter": "python",
   "pygments_lexer": "ipython3",
   "version": "3.10.13"
  }
 },
 "nbformat": 4,
 "nbformat_minor": 5
}
