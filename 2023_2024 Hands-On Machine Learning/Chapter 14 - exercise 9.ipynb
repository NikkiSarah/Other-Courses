{
 "cells": [
  {
   "cell_type": "markdown",
   "id": "0b63d063-57a9-4bbc-8985-7b27f133fbcf",
   "metadata": {},
   "source": [
    "## Chapter 14 - Exercise 9\n",
    "\n",
    "Build a CNN from scratch and try and achieve the highest possible accuracy on MNIST."
   ]
  },
  {
   "cell_type": "code",
   "execution_count": 1,
   "id": "5ecc86d7-99d0-45ff-8380-b282f33aa7ef",
   "metadata": {
    "execution": {
     "iopub.execute_input": "2024-01-28T03:02:39.044895Z",
     "iopub.status.busy": "2024-01-28T03:02:39.044524Z",
     "iopub.status.idle": "2024-01-28T03:02:46.119758Z",
     "shell.execute_reply": "2024-01-28T03:02:46.119107Z",
     "shell.execute_reply.started": "2024-01-28T03:02:39.044868Z"
    },
    "tags": []
   },
   "outputs": [
    {
     "name": "stderr",
     "output_type": "stream",
     "text": [
      "2024-01-28 03:02:39.732843: I tensorflow/core/util/port.cc:113] oneDNN custom operations are on. You may see slightly different numerical results due to floating-point round-off errors from different computation orders. To turn them off, set the environment variable `TF_ENABLE_ONEDNN_OPTS=0`.\n",
      "2024-01-28 03:02:39.775890: E external/local_xla/xla/stream_executor/cuda/cuda_dnn.cc:9261] Unable to register cuDNN factory: Attempting to register factory for plugin cuDNN when one has already been registered\n",
      "2024-01-28 03:02:39.775921: E external/local_xla/xla/stream_executor/cuda/cuda_fft.cc:607] Unable to register cuFFT factory: Attempting to register factory for plugin cuFFT when one has already been registered\n",
      "2024-01-28 03:02:39.777061: E external/local_xla/xla/stream_executor/cuda/cuda_blas.cc:1515] Unable to register cuBLAS factory: Attempting to register factory for plugin cuBLAS when one has already been registered\n",
      "2024-01-28 03:02:39.784418: I tensorflow/core/platform/cpu_feature_guard.cc:182] This TensorFlow binary is optimized to use available CPU instructions in performance-critical operations.\n",
      "To enable the following instructions: AVX2 AVX512F AVX512_VNNI FMA, in other operations, rebuild TensorFlow with the appropriate compiler flags.\n",
      "2024-01-28 03:02:42.869422: W tensorflow/compiler/tf2tensorrt/utils/py_utils.cc:38] TF-TRT Warning: Could not find TensorRT\n"
     ]
    }
   ],
   "source": [
    "import tensorflow.keras as tfk\n",
    "import tensorflow as tf"
   ]
  },
  {
   "cell_type": "code",
   "execution_count": 5,
   "id": "509fa63a-6628-47db-8bac-1ea5369e7a4c",
   "metadata": {
    "execution": {
     "iopub.execute_input": "2024-01-28T03:03:19.659428Z",
     "iopub.status.busy": "2024-01-28T03:03:19.659042Z",
     "iopub.status.idle": "2024-01-28T03:03:20.104164Z",
     "shell.execute_reply": "2024-01-28T03:03:20.103469Z",
     "shell.execute_reply.started": "2024-01-28T03:03:19.659400Z"
    },
    "tags": []
   },
   "outputs": [],
   "source": [
    "(X_train_val, y_train_val), (X_test, y_test) = tfk.datasets.mnist.load_data()\n",
    "X_train_val = X_train_val / 255.\n",
    "X_train, X_val = X_train_val[:-5000], X_train_val[-5000:]\n",
    "y_train, y_val = y_train_val[:-5000], y_train_val[-5000:]\n",
    "X_test = X_test / 255.\n",
    "\n",
    "X_train = X_train.reshape(-1, 28, 28, 1)\n",
    "X_val = X_val.reshape(-1, 28, 28, 1)\n",
    "X_test = X_test.reshape(-1, 28, 28, 1)\n",
    "\n",
    "tfk.backend.clear_session()\n",
    "tf.random.set_seed(42)\n",
    "\n",
    "data_augmentation = tfk.Sequential([\n",
    "    tfk.layers.RandomFlip(mode=\"horizontal\", seed=42),\n",
    "    tfk.layers.RandomRotation(factor=0.05, seed=42),\n",
    "    tfk.layers.RandomContrast(factor=0.2, seed=42)\n",
    "    ])\n",
    "\n",
    "model = tfk.models.Sequential()\n",
    "model.add(data_augmentation)\n",
    "for _ in range(3):\n",
    "    model.add(tfk.layers.Conv2D(filters=64, kernel_size=3, padding=\"same\",\n",
    "                                activation=\"swish\", kernel_initializer=\"he_normal\"))\n",
    "model.add(tfk.layers.MaxPool2D())\n",
    "for _ in range(2):\n",
    "    model.add(tfk.layers.Conv2D(filters=128, kernel_size=3, padding=\"same\",\n",
    "                                activation=\"swish\", kernel_initializer=\"he_normal\"))\n",
    "model.add(tfk.layers.MaxPool2D())\n",
    "model.add(tfk.layers.Conv2D(filters=256, kernel_size=3, padding=\"same\",\n",
    "                            activation=\"swish\", kernel_initializer=\"he_normal\"))\n",
    "model.add(tfk.layers.Flatten())\n",
    "model.add(tfk.layers.Dropout(0.25))\n",
    "model.add(tfk.layers.Dense(256, activation=\"swish\", kernel_initializer=\"he_normal\"))\n",
    "model.add(tfk.layers.Dropout(0.5))\n",
    "model.add(tfk.layers.Dense(10, activation=\"softmax\"))\n",
    "\n",
    "model.compile(loss=\"sparse_categorical_crossentropy\", optimizer=\"nadam\",\n",
    "              metrics=[\"accuracy\"])"
   ]
  },
  {
   "cell_type": "code",
   "execution_count": 7,
   "id": "aa97ea94-971e-4e46-b7f8-ebb8cd853904",
   "metadata": {
    "execution": {
     "iopub.execute_input": "2024-01-28T03:03:49.222173Z",
     "iopub.status.busy": "2024-01-28T03:03:49.221796Z",
     "iopub.status.idle": "2024-01-28T03:12:14.213621Z",
     "shell.execute_reply": "2024-01-28T03:12:14.212748Z",
     "shell.execute_reply.started": "2024-01-28T03:03:49.222148Z"
    },
    "tags": []
   },
   "outputs": [
    {
     "name": "stdout",
     "output_type": "stream",
     "text": [
      "Epoch 1/20\n"
     ]
    },
    {
     "name": "stderr",
     "output_type": "stream",
     "text": [
      "2024-01-28 03:03:52.360645: I external/local_tsl/tsl/platform/default/subprocess.cc:304] Start cannot spawn child process: No such file or directory\n",
      "2024-01-28 03:03:53.384128: I external/local_xla/xla/stream_executor/cuda/cuda_dnn.cc:454] Loaded cuDNN version 8904\n",
      "2024-01-28 03:03:53.515181: I external/local_tsl/tsl/platform/default/subprocess.cc:304] Start cannot spawn child process: No such file or directory\n",
      "2024-01-28 03:03:55.186742: I external/local_xla/xla/service/service.cc:168] XLA service 0x7f6c1e8401a0 initialized for platform CUDA (this does not guarantee that XLA will be used). Devices:\n",
      "2024-01-28 03:03:55.186777: I external/local_xla/xla/service/service.cc:176]   StreamExecutor device (0): Tesla T4, Compute Capability 7.5\n",
      "2024-01-28 03:03:55.199624: I tensorflow/compiler/mlir/tensorflow/utils/dump_mlir_util.cc:269] disabling MLIR crash reproducer, set env var `MLIR_CRASH_REPRODUCER_DIRECTORY` to enable.\n",
      "WARNING: All log messages before absl::InitializeLog() is called are written to STDERR\n",
      "I0000 00:00:1706411035.329824     231 device_compiler.h:186] Compiled cluster using XLA!  This line is logged at most once for the lifetime of the process.\n"
     ]
    },
    {
     "name": "stdout",
     "output_type": "stream",
     "text": [
      "1719/1719 [==============================] - 30s 13ms/step - loss: 0.3101 - accuracy: 0.9105 - val_loss: 0.1349 - val_accuracy: 0.9710 - lr: 0.0010\n",
      "Epoch 2/20\n",
      "1719/1719 [==============================] - 22s 13ms/step - loss: 0.2109 - accuracy: 0.9448 - val_loss: 0.0843 - val_accuracy: 0.9796 - lr: 0.0010\n",
      "Epoch 3/20\n",
      "1719/1719 [==============================] - 22s 13ms/step - loss: 0.1830 - accuracy: 0.9538 - val_loss: 0.0786 - val_accuracy: 0.9824 - lr: 0.0010\n",
      "Epoch 4/20\n",
      "1719/1719 [==============================] - 22s 13ms/step - loss: 0.1611 - accuracy: 0.9587 - val_loss: 0.0685 - val_accuracy: 0.9860 - lr: 0.0010\n",
      "Epoch 5/20\n",
      "1719/1719 [==============================] - 22s 13ms/step - loss: 0.1963 - accuracy: 0.9564 - val_loss: 0.0871 - val_accuracy: 0.9818 - lr: 0.0010\n",
      "Epoch 6/20\n",
      "1719/1719 [==============================] - 22s 13ms/step - loss: 0.1485 - accuracy: 0.9637 - val_loss: 0.0637 - val_accuracy: 0.9846 - lr: 0.0010\n",
      "Epoch 7/20\n",
      "1719/1719 [==============================] - 22s 13ms/step - loss: 0.1430 - accuracy: 0.9639 - val_loss: 0.0562 - val_accuracy: 0.9884 - lr: 0.0010\n",
      "Epoch 8/20\n",
      "1719/1719 [==============================] - 22s 13ms/step - loss: 0.1356 - accuracy: 0.9666 - val_loss: 0.0842 - val_accuracy: 0.9810 - lr: 0.0010\n",
      "Epoch 9/20\n",
      "1719/1719 [==============================] - 22s 13ms/step - loss: 0.1609 - accuracy: 0.9621 - val_loss: 0.0495 - val_accuracy: 0.9874 - lr: 0.0010\n",
      "Epoch 10/20\n",
      "1719/1719 [==============================] - 22s 13ms/step - loss: 0.1352 - accuracy: 0.9671 - val_loss: 0.0677 - val_accuracy: 0.9864 - lr: 0.0010\n",
      "Epoch 11/20\n",
      "1717/1719 [============================>.] - ETA: 0s - loss: 0.1298 - accuracy: 0.9677\n",
      "Epoch 11: ReduceLROnPlateau reducing learning rate to 0.0003000000142492354.\n",
      "1719/1719 [==============================] - 22s 13ms/step - loss: 0.1298 - accuracy: 0.9677 - val_loss: 0.0792 - val_accuracy: 0.9846 - lr: 0.0010\n",
      "Epoch 12/20\n",
      "1719/1719 [==============================] - 22s 13ms/step - loss: 0.0814 - accuracy: 0.9788 - val_loss: 0.0463 - val_accuracy: 0.9908 - lr: 3.0000e-04\n",
      "Epoch 13/20\n",
      "1719/1719 [==============================] - 23s 13ms/step - loss: 0.0673 - accuracy: 0.9820 - val_loss: 0.0472 - val_accuracy: 0.9906 - lr: 3.0000e-04\n",
      "Epoch 14/20\n",
      "1719/1719 [==============================] - ETA: 0s - loss: 0.0605 - accuracy: 0.9838\n",
      "Epoch 14: ReduceLROnPlateau reducing learning rate to 9.000000427477062e-05.\n",
      "1719/1719 [==============================] - 23s 14ms/step - loss: 0.0605 - accuracy: 0.9838 - val_loss: 0.0523 - val_accuracy: 0.9906 - lr: 3.0000e-04\n",
      "Epoch 15/20\n",
      "1719/1719 [==============================] - 24s 14ms/step - loss: 0.0515 - accuracy: 0.9866 - val_loss: 0.0454 - val_accuracy: 0.9918 - lr: 9.0000e-05\n",
      "Epoch 16/20\n",
      "1719/1719 [==============================] - 24s 14ms/step - loss: 0.0457 - accuracy: 0.9872 - val_loss: 0.0471 - val_accuracy: 0.9920 - lr: 9.0000e-05\n",
      "Epoch 17/20\n",
      "1719/1719 [==============================] - 24s 14ms/step - loss: 0.0401 - accuracy: 0.9886 - val_loss: 0.0393 - val_accuracy: 0.9920 - lr: 9.0000e-05\n",
      "Epoch 18/20\n",
      "1719/1719 [==============================] - 24s 14ms/step - loss: 0.0413 - accuracy: 0.9886 - val_loss: 0.0384 - val_accuracy: 0.9924 - lr: 9.0000e-05\n",
      "Epoch 19/20\n",
      "1719/1719 [==============================] - 24s 14ms/step - loss: 0.0379 - accuracy: 0.9891 - val_loss: 0.0459 - val_accuracy: 0.9922 - lr: 9.0000e-05\n",
      "Epoch 20/20\n",
      "1716/1719 [============================>.] - ETA: 0s - loss: 0.0369 - accuracy: 0.9891\n",
      "Epoch 20: ReduceLROnPlateau reducing learning rate to 2.700000040931627e-05.\n",
      "1719/1719 [==============================] - 24s 14ms/step - loss: 0.0368 - accuracy: 0.9891 - val_loss: 0.0430 - val_accuracy: 0.9926 - lr: 9.0000e-05\n"
     ]
    },
    {
     "data": {
      "text/plain": [
       "<keras.src.callbacks.History at 0x7f6cd8187490>"
      ]
     },
     "execution_count": 7,
     "metadata": {},
     "output_type": "execute_result"
    }
   ],
   "source": [
    "reduce_lr_cb = tfk.callbacks.ReduceLROnPlateau(monitor=\"val_loss\", factor=0.3, verbose=1,\n",
    "                                               patience=2, min_lr=1e-8)\n",
    "model.fit(X_train, y_train, epochs=20, validation_data=(X_val, y_val),\n",
    "          callbacks=[reduce_lr_cb])"
   ]
  },
  {
   "cell_type": "code",
   "execution_count": 8,
   "id": "9e2200e5-ec91-431a-8a3b-a0e22193a235",
   "metadata": {
    "execution": {
     "iopub.execute_input": "2024-01-28T03:17:44.046459Z",
     "iopub.status.busy": "2024-01-28T03:17:44.046048Z",
     "iopub.status.idle": "2024-01-28T03:17:44.831745Z",
     "shell.execute_reply": "2024-01-28T03:17:44.830921Z",
     "shell.execute_reply.started": "2024-01-28T03:17:44.046431Z"
    },
    "tags": []
   },
   "outputs": [
    {
     "name": "stdout",
     "output_type": "stream",
     "text": [
      "157/157 [==============================] - 1s 4ms/step - loss: 0.0430 - accuracy: 0.9926\n"
     ]
    },
    {
     "data": {
      "text/plain": [
       "[0.0429859422147274, 0.9926000237464905]"
      ]
     },
     "execution_count": 8,
     "metadata": {},
     "output_type": "execute_result"
    }
   ],
   "source": [
    "model.evaluate(X_val, y_val)"
   ]
  },
  {
   "cell_type": "code",
   "execution_count": 9,
   "id": "628f261b-40c8-4591-96c6-62ba6aaf099b",
   "metadata": {
    "execution": {
     "iopub.execute_input": "2024-01-28T03:17:45.939532Z",
     "iopub.status.busy": "2024-01-28T03:17:45.939114Z",
     "iopub.status.idle": "2024-01-28T03:17:45.972293Z",
     "shell.execute_reply": "2024-01-28T03:17:45.971411Z",
     "shell.execute_reply.started": "2024-01-28T03:17:45.939503Z"
    },
    "tags": []
   },
   "outputs": [
    {
     "name": "stdout",
     "output_type": "stream",
     "text": [
      "Model: \"sequential_1\"\n",
      "_________________________________________________________________\n",
      " Layer (type)                Output Shape              Param #   \n",
      "=================================================================\n",
      " sequential (Sequential)     (None, 28, 28, 1)         0         \n",
      "                                                                 \n",
      " conv2d (Conv2D)             (None, 28, 28, 64)        640       \n",
      "                                                                 \n",
      " conv2d_1 (Conv2D)           (None, 28, 28, 64)        36928     \n",
      "                                                                 \n",
      " conv2d_2 (Conv2D)           (None, 28, 28, 64)        36928     \n",
      "                                                                 \n",
      " max_pooling2d (MaxPooling2  (None, 14, 14, 64)        0         \n",
      " D)                                                              \n",
      "                                                                 \n",
      " conv2d_3 (Conv2D)           (None, 14, 14, 128)       73856     \n",
      "                                                                 \n",
      " conv2d_4 (Conv2D)           (None, 14, 14, 128)       147584    \n",
      "                                                                 \n",
      " max_pooling2d_1 (MaxPoolin  (None, 7, 7, 128)         0         \n",
      " g2D)                                                            \n",
      "                                                                 \n",
      " conv2d_5 (Conv2D)           (None, 7, 7, 256)         295168    \n",
      "                                                                 \n",
      " flatten (Flatten)           (None, 12544)             0         \n",
      "                                                                 \n",
      " dropout (Dropout)           (None, 12544)             0         \n",
      "                                                                 \n",
      " dense (Dense)               (None, 256)               3211520   \n",
      "                                                                 \n",
      " dropout_1 (Dropout)         (None, 256)               0         \n",
      "                                                                 \n",
      " dense_1 (Dense)             (None, 10)                2570      \n",
      "                                                                 \n",
      "=================================================================\n",
      "Total params: 3805194 (14.52 MB)\n",
      "Trainable params: 3805194 (14.52 MB)\n",
      "Non-trainable params: 0 (0.00 Byte)\n",
      "_________________________________________________________________\n"
     ]
    }
   ],
   "source": [
    "model.summary()"
   ]
  },
  {
   "cell_type": "code",
   "execution_count": null,
   "id": "b4ae2a2b-5809-4055-888a-03b8ef30eb2b",
   "metadata": {},
   "outputs": [],
   "source": []
  }
 ],
 "metadata": {
  "kernelspec": {
   "display_name": "saturn (Python 3)",
   "language": "python",
   "name": "python3"
  },
  "language_info": {
   "codemirror_mode": {
    "name": "ipython",
    "version": 3
   },
   "file_extension": ".py",
   "mimetype": "text/x-python",
   "name": "python",
   "nbconvert_exporter": "python",
   "pygments_lexer": "ipython3",
   "version": "3.10.13"
  }
 },
 "nbformat": 4,
 "nbformat_minor": 5
}
